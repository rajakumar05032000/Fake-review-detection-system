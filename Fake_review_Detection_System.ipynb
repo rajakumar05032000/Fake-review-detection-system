{
  "nbformat": 4,
  "nbformat_minor": 0,
  "metadata": {
    "accelerator": "GPU",
    "colab": {
      "name": "Fake-review-Detection-System.ipynb",
      "provenance": [],
      "collapsed_sections": [],
      "include_colab_link": true
    },
    "kernelspec": {
      "display_name": "Python 3",
      "name": "python3"
    },
    "language_info": {
      "name": "python"
    }
  },
  "cells": [
    {
      "cell_type": "markdown",
      "metadata": {
        "id": "view-in-github",
        "colab_type": "text"
      },
      "source": [
        "<a href=\"https://colab.research.google.com/github/rajakumar05032000/Fake-review-detection-system/blob/main/Fake_review_Detection_System.ipynb\" target=\"_parent\"><img src=\"https://colab.research.google.com/assets/colab-badge.svg\" alt=\"Open In Colab\"/></a>"
      ]
    },
    {
      "cell_type": "code",
      "metadata": {
        "id": "UlAt2H_sM6me"
      },
      "source": [
        "#Importing Libraries\n",
        "import pandas as pd,numpy as np,seaborn as sns\n",
        "from keras.preprocessing.text import Tokenizer\n",
        "from keras.preprocessing.sequence import pad_sequences\n",
        "import matplotlib.pyplot as plt\n",
        "%matplotlib inline\n",
        "import spacy\n",
        "import tensorflow as tf\n",
        "import nltk\n",
        "import string"
      ],
      "execution_count": null,
      "outputs": []
    },
    {
      "cell_type": "code",
      "metadata": {
        "id": "K-MDOGyGNJY_",
        "colab": {
          "base_uri": "https://localhost:8080/"
        },
        "outputId": "f47d5794-361e-49dd-e921-0da1d80a65ce"
      },
      "source": [
        "#Mounting Drive in Colab\n",
        "from google.colab import drive\n",
        "drive.mount('/content/drive')"
      ],
      "execution_count": null,
      "outputs": [
        {
          "output_type": "stream",
          "name": "stdout",
          "text": [
            "Mounted at /content/drive\n"
          ]
        }
      ]
    },
    {
      "cell_type": "code",
      "metadata": {
        "id": "6FicOgMxNJiO"
      },
      "source": [
        "#Copy /content/drive/MyDrive/yelp_review.csv.zip to /content\n",
        "!cp -r '/content/drive/MyDrive/yelp_review.csv.zip' '/content/'"
      ],
      "execution_count": null,
      "outputs": []
    },
    {
      "cell_type": "code",
      "metadata": {
        "id": "15VKw2GiNJlh",
        "colab": {
          "base_uri": "https://localhost:8080/"
        },
        "outputId": "8aa5a4b6-e741-4717-b3e7-210d6ffbcd3c"
      },
      "source": [
        "#Unzipping Yelp Dataset\n",
        "!unzip yelp_review.csv.zip"
      ],
      "execution_count": null,
      "outputs": [
        {
          "output_type": "stream",
          "name": "stdout",
          "text": [
            "Archive:  yelp_review.csv.zip\n",
            "  inflating: yelp_review.csv         \n"
          ]
        }
      ]
    },
    {
      "cell_type": "code",
      "metadata": {
        "colab": {
          "base_uri": "https://localhost:8080/",
          "height": 530
        },
        "id": "ywA0qDDsNJoo",
        "outputId": "0a171dd4-8b99-45ae-da6c-c7bb1def4a7e"
      },
      "source": [
        "#Loading the Yelp Dataset\n",
        "yelp_reviews = pd.read_csv('yelp_review.csv')\n",
        "yelp_reviews.head()"
      ],
      "execution_count": null,
      "outputs": [
        {
          "output_type": "execute_result",
          "data": {
            "text/html": [
              "<div>\n",
              "<style scoped>\n",
              "    .dataframe tbody tr th:only-of-type {\n",
              "        vertical-align: middle;\n",
              "    }\n",
              "\n",
              "    .dataframe tbody tr th {\n",
              "        vertical-align: top;\n",
              "    }\n",
              "\n",
              "    .dataframe thead th {\n",
              "        text-align: right;\n",
              "    }\n",
              "</style>\n",
              "<table border=\"1\" class=\"dataframe\">\n",
              "  <thead>\n",
              "    <tr style=\"text-align: right;\">\n",
              "      <th></th>\n",
              "      <th>review_id</th>\n",
              "      <th>user_id</th>\n",
              "      <th>business_id</th>\n",
              "      <th>stars</th>\n",
              "      <th>date</th>\n",
              "      <th>text</th>\n",
              "      <th>useful</th>\n",
              "      <th>funny</th>\n",
              "      <th>cool</th>\n",
              "    </tr>\n",
              "  </thead>\n",
              "  <tbody>\n",
              "    <tr>\n",
              "      <th>0</th>\n",
              "      <td>vkVSCC7xljjrAI4UGfnKEQ</td>\n",
              "      <td>bv2nCi5Qv5vroFiqKGopiw</td>\n",
              "      <td>AEx2SYEUJmTxVVB18LlCwA</td>\n",
              "      <td>5</td>\n",
              "      <td>2016-05-28</td>\n",
              "      <td>Super simple place but amazing nonetheless. It...</td>\n",
              "      <td>0</td>\n",
              "      <td>0</td>\n",
              "      <td>0</td>\n",
              "    </tr>\n",
              "    <tr>\n",
              "      <th>1</th>\n",
              "      <td>n6QzIUObkYshz4dz2QRJTw</td>\n",
              "      <td>bv2nCi5Qv5vroFiqKGopiw</td>\n",
              "      <td>VR6GpWIda3SfvPC-lg9H3w</td>\n",
              "      <td>5</td>\n",
              "      <td>2016-05-28</td>\n",
              "      <td>Small unassuming place that changes their menu...</td>\n",
              "      <td>0</td>\n",
              "      <td>0</td>\n",
              "      <td>0</td>\n",
              "    </tr>\n",
              "    <tr>\n",
              "      <th>2</th>\n",
              "      <td>MV3CcKScW05u5LVfF6ok0g</td>\n",
              "      <td>bv2nCi5Qv5vroFiqKGopiw</td>\n",
              "      <td>CKC0-MOWMqoeWf6s-szl8g</td>\n",
              "      <td>5</td>\n",
              "      <td>2016-05-28</td>\n",
              "      <td>Lester's is located in a beautiful neighborhoo...</td>\n",
              "      <td>0</td>\n",
              "      <td>0</td>\n",
              "      <td>0</td>\n",
              "    </tr>\n",
              "    <tr>\n",
              "      <th>3</th>\n",
              "      <td>IXvOzsEMYtiJI0CARmj77Q</td>\n",
              "      <td>bv2nCi5Qv5vroFiqKGopiw</td>\n",
              "      <td>ACFtxLv8pGrrxMm6EgjreA</td>\n",
              "      <td>4</td>\n",
              "      <td>2016-05-28</td>\n",
              "      <td>Love coming here. Yes the place always needs t...</td>\n",
              "      <td>0</td>\n",
              "      <td>0</td>\n",
              "      <td>0</td>\n",
              "    </tr>\n",
              "    <tr>\n",
              "      <th>4</th>\n",
              "      <td>L_9BTb55X0GDtThi6GlZ6w</td>\n",
              "      <td>bv2nCi5Qv5vroFiqKGopiw</td>\n",
              "      <td>s2I_Ni76bjJNK9yG60iD-Q</td>\n",
              "      <td>4</td>\n",
              "      <td>2016-05-28</td>\n",
              "      <td>Had their chocolate almond croissant and it wa...</td>\n",
              "      <td>0</td>\n",
              "      <td>0</td>\n",
              "      <td>0</td>\n",
              "    </tr>\n",
              "  </tbody>\n",
              "</table>\n",
              "</div>"
            ],
            "text/plain": [
              "                review_id                 user_id  ... funny  cool\n",
              "0  vkVSCC7xljjrAI4UGfnKEQ  bv2nCi5Qv5vroFiqKGopiw  ...     0     0\n",
              "1  n6QzIUObkYshz4dz2QRJTw  bv2nCi5Qv5vroFiqKGopiw  ...     0     0\n",
              "2  MV3CcKScW05u5LVfF6ok0g  bv2nCi5Qv5vroFiqKGopiw  ...     0     0\n",
              "3  IXvOzsEMYtiJI0CARmj77Q  bv2nCi5Qv5vroFiqKGopiw  ...     0     0\n",
              "4  L_9BTb55X0GDtThi6GlZ6w  bv2nCi5Qv5vroFiqKGopiw  ...     0     0\n",
              "\n",
              "[5 rows x 9 columns]"
            ]
          },
          "metadata": {},
          "execution_count": 8
        }
      ]
    },
    {
      "cell_type": "code",
      "metadata": {
        "colab": {
          "base_uri": "https://localhost:8080/"
        },
        "id": "O5NLaFa5TGfE",
        "outputId": "0aa50515-5ea0-4c86-9ae1-b26e8323d28d"
      },
      "source": [
        "#Listing the Columns\n",
        "yelp_reviews.columns"
      ],
      "execution_count": null,
      "outputs": [
        {
          "output_type": "execute_result",
          "data": {
            "text/plain": [
              "Index(['review_id', 'user_id', 'business_id', 'stars', 'date', 'text',\n",
              "       'useful', 'funny', 'cool'],\n",
              "      dtype='object')"
            ]
          },
          "metadata": {},
          "execution_count": 9
        }
      ]
    },
    {
      "cell_type": "code",
      "metadata": {
        "id": "e6wQBfAqlU_Z"
      },
      "source": [
        "yelp_reviews=yelp_reviews[:200000]"
      ],
      "execution_count": null,
      "outputs": []
    },
    {
      "cell_type": "code",
      "metadata": {
        "colab": {
          "base_uri": "https://localhost:8080/",
          "height": 204
        },
        "id": "746XP3RbODX2",
        "outputId": "e7220a79-5d79-41fd-fd52-1969b89e685e"
      },
      "source": [
        "#Dropping Unwanted Columns\n",
        "yelp_reviews=yelp_reviews.drop(['review_id','user_id','business_id','date','useful','funny','cool'],axis=1)\n",
        "yelp_reviews.head()"
      ],
      "execution_count": null,
      "outputs": [
        {
          "output_type": "execute_result",
          "data": {
            "text/html": [
              "<div>\n",
              "<style scoped>\n",
              "    .dataframe tbody tr th:only-of-type {\n",
              "        vertical-align: middle;\n",
              "    }\n",
              "\n",
              "    .dataframe tbody tr th {\n",
              "        vertical-align: top;\n",
              "    }\n",
              "\n",
              "    .dataframe thead th {\n",
              "        text-align: right;\n",
              "    }\n",
              "</style>\n",
              "<table border=\"1\" class=\"dataframe\">\n",
              "  <thead>\n",
              "    <tr style=\"text-align: right;\">\n",
              "      <th></th>\n",
              "      <th>stars</th>\n",
              "      <th>text</th>\n",
              "    </tr>\n",
              "  </thead>\n",
              "  <tbody>\n",
              "    <tr>\n",
              "      <th>0</th>\n",
              "      <td>5</td>\n",
              "      <td>Super simple place but amazing nonetheless. It...</td>\n",
              "    </tr>\n",
              "    <tr>\n",
              "      <th>1</th>\n",
              "      <td>5</td>\n",
              "      <td>Small unassuming place that changes their menu...</td>\n",
              "    </tr>\n",
              "    <tr>\n",
              "      <th>2</th>\n",
              "      <td>5</td>\n",
              "      <td>Lester's is located in a beautiful neighborhoo...</td>\n",
              "    </tr>\n",
              "    <tr>\n",
              "      <th>3</th>\n",
              "      <td>4</td>\n",
              "      <td>Love coming here. Yes the place always needs t...</td>\n",
              "    </tr>\n",
              "    <tr>\n",
              "      <th>4</th>\n",
              "      <td>4</td>\n",
              "      <td>Had their chocolate almond croissant and it wa...</td>\n",
              "    </tr>\n",
              "  </tbody>\n",
              "</table>\n",
              "</div>"
            ],
            "text/plain": [
              "   stars                                               text\n",
              "0      5  Super simple place but amazing nonetheless. It...\n",
              "1      5  Small unassuming place that changes their menu...\n",
              "2      5  Lester's is located in a beautiful neighborhoo...\n",
              "3      4  Love coming here. Yes the place always needs t...\n",
              "4      4  Had their chocolate almond croissant and it wa..."
            ]
          },
          "metadata": {},
          "execution_count": 11
        }
      ]
    },
    {
      "cell_type": "code",
      "metadata": {
        "colab": {
          "base_uri": "https://localhost:8080/"
        },
        "id": "YcNxllXCNJrq",
        "outputId": "d4eb379e-f48d-460c-8da2-4518a5b54106"
      },
      "source": [
        "#Check if there is Null Values\n",
        "yelp_reviews.isnull().any()"
      ],
      "execution_count": null,
      "outputs": [
        {
          "output_type": "execute_result",
          "data": {
            "text/plain": [
              "stars    False\n",
              "text     False\n",
              "dtype: bool"
            ]
          },
          "metadata": {},
          "execution_count": 12
        }
      ]
    },
    {
      "cell_type": "code",
      "metadata": {
        "colab": {
          "base_uri": "https://localhost:8080/"
        },
        "id": "jUyxfyqRNJuc",
        "outputId": "d54772f2-6408-4684-cae3-ac382620cc18"
      },
      "source": [
        "#Finding What are the Star Values\n",
        "yelp_reviews.stars.unique()"
      ],
      "execution_count": null,
      "outputs": [
        {
          "output_type": "execute_result",
          "data": {
            "text/plain": [
              "array([5, 4, 3, 1, 2])"
            ]
          },
          "metadata": {},
          "execution_count": 13
        }
      ]
    },
    {
      "cell_type": "code",
      "metadata": {
        "colab": {
          "base_uri": "https://localhost:8080/",
          "height": 350
        },
        "id": "uwpwBQLwqrQC",
        "outputId": "82e63b28-dbf6-4b87-a86d-b24fac459a30"
      },
      "source": [
        "#Plotting a Count Plot based on star Values\n",
        "sns.countplot(yelp_reviews.stars)"
      ],
      "execution_count": null,
      "outputs": [
        {
          "output_type": "stream",
          "name": "stderr",
          "text": [
            "/usr/local/lib/python3.7/dist-packages/seaborn/_decorators.py:43: FutureWarning: Pass the following variable as a keyword arg: x. From version 0.12, the only valid positional argument will be `data`, and passing other arguments without an explicit keyword will result in an error or misinterpretation.\n",
            "  FutureWarning\n"
          ]
        },
        {
          "output_type": "execute_result",
          "data": {
            "text/plain": [
              "<matplotlib.axes._subplots.AxesSubplot at 0x7f343b1f2d50>"
            ]
          },
          "metadata": {},
          "execution_count": 14
        },
        {
          "output_type": "display_data",
          "data": {
            "image/png": "[encoded data removed]",
            "text/plain": [
              "<Figure size 432x288 with 1 Axes>"
            ]
          },
          "metadata": {
            "needs_background": "light"
          }
        }
      ]
    },
    {
      "cell_type": "code",
      "metadata": {
        "id": "wIysOqyfqrXt"
      },
      "source": [
        "#Taking Reviews leaving start 3 alone \n",
        "reviews = yelp_reviews[yelp_reviews.stars!=3]\n"
      ],
      "execution_count": null,
      "outputs": []
    },
    {
      "cell_type": "code",
      "metadata": {
        "colab": {
          "base_uri": "https://localhost:8080/"
        },
        "id": "xSfg_KrKEDHO",
        "outputId": "0cfd7a5e-04c1-4843-91d7-62d07f3427f0"
      },
      "source": [
        "reviews['label'] = reviews['stars'].apply(lambda x: 1 if x>3 else 0)\n",
        "reviews = reviews.drop('stars',axis=1)"
      ],
      "execution_count": null,
      "outputs": [
        {
          "output_type": "stream",
          "name": "stderr",
          "text": [
            "/usr/local/lib/python3.7/dist-packages/ipykernel_launcher.py:1: SettingWithCopyWarning: \n",
            "A value is trying to be set on a copy of a slice from a DataFrame.\n",
            "Try using .loc[row_indexer,col_indexer] = value instead\n",
            "\n",
            "See the caveats in the documentation: https://pandas.pydata.org/pandas-docs/stable/user_guide/indexing.html#returning-a-view-versus-a-copy\n",
            "  \"\"\"Entry point for launching an IPython kernel.\n"
          ]
        }
      ]
    },
    {
      "cell_type": "code",
      "metadata": {
        "id": "0v3mQ9pFg0_R",
        "colab": {
          "base_uri": "https://localhost:8080/"
        },
        "outputId": "4a9d161b-9d9f-4bb4-f89e-5285eb1f5d1c"
      },
      "source": [
        "\n",
        "text = reviews.text.values\n",
        "label = reviews.label.values\n",
        "one=0\n",
        "ze=0\n",
        "for i in label:\n",
        "  if i==1:\n",
        "    one=one+1\n",
        "  else:\n",
        "    ze=ze+1\n",
        "print(one)\n",
        "print(ze)"
      ],
      "execution_count": null,
      "outputs": [
        {
          "output_type": "stream",
          "name": "stdout",
          "text": [
            "133289\n",
            "43932\n"
          ]
        }
      ]
    },
    {
      "cell_type": "code",
      "metadata": {
        "id": "Tptm0PMwg8JG"
      },
      "source": [
        "class1=reviews[reviews['label']==1]\n",
        "class2=reviews[reviews['label']==0]"
      ],
      "execution_count": null,
      "outputs": []
    },
    {
      "cell_type": "code",
      "metadata": {
        "id": "3ka9QWSHhBGE"
      },
      "source": [
        "class1=class1.head(43932)\n",
        "class2=class2.head(43932)"
      ],
      "execution_count": null,
      "outputs": []
    },
    {
      "cell_type": "code",
      "metadata": {
        "id": "3JqtGifzhFZ0"
      },
      "source": [
        "result = pd.concat([class1, class2], axis=0)"
      ],
      "execution_count": null,
      "outputs": []
    },
    {
      "cell_type": "code",
      "metadata": {
        "id": "HzPQyRdNoFZk"
      },
      "source": [
        "reviews = result.sample(frac = 1)"
      ],
      "execution_count": null,
      "outputs": []
    },
    {
      "cell_type": "code",
      "metadata": {
        "colab": {
          "base_uri": "https://localhost:8080/"
        },
        "id": "TD4s4BBDqrfc",
        "outputId": "82a639de-155b-4b65-e348-0c2c9d282b2a"
      },
      "source": [
        "#Print the Shape of Review\n",
        "reviews.shape"
      ],
      "execution_count": null,
      "outputs": [
        {
          "output_type": "execute_result",
          "data": {
            "text/plain": [
              "(87864, 2)"
            ]
          },
          "metadata": {},
          "execution_count": 22
        }
      ]
    },
    {
      "cell_type": "code",
      "metadata": {
        "id": "p_O2gxbuqryM"
      },
      "source": [
        "#Placing text and label column values in two different list test and label respectively\n",
        "text = reviews.text.values\n",
        "label = reviews.label.values"
      ],
      "execution_count": null,
      "outputs": []
    },
    {
      "cell_type": "code",
      "metadata": {
        "id": "xmaCgjqNqr10"
      },
      "source": [
        "#Spacy - advanced natural language processing and machine learning\n",
        "#Import the English language class and create the NLP object \n",
        "nlp = spacy.load('en')"
      ],
      "execution_count": null,
      "outputs": []
    },
    {
      "cell_type": "code",
      "metadata": {
        "colab": {
          "base_uri": "https://localhost:8080/",
          "height": 103
        },
        "id": "rXWsTgSpqr47",
        "outputId": "79b36b0b-7b33-49aa-b42a-ce1be24602b4"
      },
      "source": [
        "#Printing the 1st text\n",
        "text[0]"
      ],
      "execution_count": null,
      "outputs": [
        {
          "output_type": "execute_result",
          "data": {
            "application/vnd.google.colaboratory.intrinsic+json": {
              "type": "string"
            },
            "text/plain": [
              "\"I ate at the Indian Palace a year ago, had the chicken curry and it was incredible. Just ate there again, had the same thing and it was not good. I don't know what happened, how it could go from incredible to below average. This time the chicken curry was almost tasteless. I asked to have only breast meat as I did a year ago and what I got this time was not all breast meat. I went in looking forward to the awesome dinner and service like I got a year ago and was extremely disappointed. I will not go back again.\""
            ]
          },
          "metadata": {},
          "execution_count": 25
        }
      ]
    },
    {
      "cell_type": "code",
      "metadata": {
        "colab": {
          "base_uri": "https://localhost:8080/"
        },
        "id": "jWPFcGVZqr7u",
        "outputId": "bb23e635-ed9d-498a-e76e-2b9cf5e35f87"
      },
      "source": [
        "#Text Prasing with the help of Spacy Package\n",
        "parsed_text = nlp(text[0])\n",
        "parsed_text"
      ],
      "execution_count": null,
      "outputs": [
        {
          "output_type": "execute_result",
          "data": {
            "text/plain": [
              "I ate at the Indian Palace a year ago, had the chicken curry and it was incredible. Just ate there again, had the same thing and it was not good. I don't know what happened, how it could go from incredible to below average. This time the chicken curry was almost tasteless. I asked to have only breast meat as I did a year ago and what I got this time was not all breast meat. I went in looking forward to the awesome dinner and service like I got a year ago and was extremely disappointed. I will not go back again."
            ]
          },
          "metadata": {},
          "execution_count": 26
        }
      ]
    },
    {
      "cell_type": "code",
      "metadata": {
        "colab": {
          "base_uri": "https://localhost:8080/"
        },
        "id": "IaoEKtBQr0mu",
        "outputId": "17000eb1-324f-484e-b181-d10f178cce5b"
      },
      "source": [
        "#Spliting Sentences\n",
        "for i,sentence in enumerate(parsed_text.sents):\n",
        "    print(i,':',sentence)"
      ],
      "execution_count": null,
      "outputs": [
        {
          "output_type": "stream",
          "name": "stdout",
          "text": [
            "0 : I ate at the Indian Palace a year ago, had the chicken curry and it was incredible.\n",
            "1 : Just ate there again, had the same thing\n",
            "2 : and it was not good.\n",
            "3 : I don't know what happened, how it could go from incredible to below average.\n",
            "4 : This time the chicken curry was almost tasteless.\n",
            "5 : I asked to have only breast meat as I did a year ago and\n",
            "6 : what I got this time was not all breast meat.\n",
            "7 : I went in looking forward to the awesome dinner and service\n",
            "8 : like I got a year ago and was extremely disappointed.\n",
            "9 : I will not go back again.\n"
          ]
        }
      ]
    },
    {
      "cell_type": "code",
      "metadata": {
        "colab": {
          "base_uri": "https://localhost:8080/",
          "height": 204
        },
        "id": "zAkgQBOUyRqX",
        "outputId": "bfeccfbd-2fde-4028-e79f-80194f65b698"
      },
      "source": [
        "#Tokenization and listing based on it's parts of speech\n",
        "token_pos = [token.pos_ for token in nlp(text[0])]\n",
        "tokens = [token for token in nlp(text[0])]\n",
        "sd = list(zip(tokens,token_pos))\n",
        "sd = pd.DataFrame(sd,columns=['token','pos'])\n",
        "sd.head()"
      ],
      "execution_count": null,
      "outputs": [
        {
          "output_type": "execute_result",
          "data": {
            "text/html": [
              "<div>\n",
              "<style scoped>\n",
              "    .dataframe tbody tr th:only-of-type {\n",
              "        vertical-align: middle;\n",
              "    }\n",
              "\n",
              "    .dataframe tbody tr th {\n",
              "        vertical-align: top;\n",
              "    }\n",
              "\n",
              "    .dataframe thead th {\n",
              "        text-align: right;\n",
              "    }\n",
              "</style>\n",
              "<table border=\"1\" class=\"dataframe\">\n",
              "  <thead>\n",
              "    <tr style=\"text-align: right;\">\n",
              "      <th></th>\n",
              "      <th>token</th>\n",
              "      <th>pos</th>\n",
              "    </tr>\n",
              "  </thead>\n",
              "  <tbody>\n",
              "    <tr>\n",
              "      <th>0</th>\n",
              "      <td>I</td>\n",
              "      <td>PRON</td>\n",
              "    </tr>\n",
              "    <tr>\n",
              "      <th>1</th>\n",
              "      <td>ate</td>\n",
              "      <td>VERB</td>\n",
              "    </tr>\n",
              "    <tr>\n",
              "      <th>2</th>\n",
              "      <td>at</td>\n",
              "      <td>ADP</td>\n",
              "    </tr>\n",
              "    <tr>\n",
              "      <th>3</th>\n",
              "      <td>the</td>\n",
              "      <td>DET</td>\n",
              "    </tr>\n",
              "    <tr>\n",
              "      <th>4</th>\n",
              "      <td>Indian</td>\n",
              "      <td>PROPN</td>\n",
              "    </tr>\n",
              "  </tbody>\n",
              "</table>\n",
              "</div>"
            ],
            "text/plain": [
              "    token    pos\n",
              "0       I   PRON\n",
              "1     ate   VERB\n",
              "2      at    ADP\n",
              "3     the    DET\n",
              "4  Indian  PROPN"
            ]
          },
          "metadata": {},
          "execution_count": 28
        }
      ]
    },
    {
      "cell_type": "code",
      "metadata": {
        "id": "fkfdmTrgyR5T"
      },
      "source": [
        "#Specify No of Words and Sequence Lenghth\n",
        "max_num_words = 10000\n",
        "max_seq_length = 300"
      ],
      "execution_count": null,
      "outputs": []
    },
    {
      "cell_type": "code",
      "metadata": {
        "id": "j4CZbvvyyot3"
      },
      "source": [
        "#Now we will tokenize all the words in the train set, so the Tokenizer basically indexes all the words in the text and each word gets a unique index\n",
        "tokenizer = Tokenizer(num_words=max_num_words)\n",
        "tokenizer.fit_on_texts(text)\n",
        "sequences = tokenizer.texts_to_sequences(text)\n",
        "word_index = tokenizer.word_index"
      ],
      "execution_count": null,
      "outputs": []
    },
    {
      "cell_type": "code",
      "metadata": {
        "colab": {
          "base_uri": "https://localhost:8080/"
        },
        "id": "qNmetzxeyo0f",
        "outputId": "c6228d44-b742-455e-dc90-173910350acc"
      },
      "source": [
        "#Print No of Index\n",
        "len(word_index)"
      ],
      "execution_count": null,
      "outputs": [
        {
          "output_type": "execute_result",
          "data": {
            "text/plain": [
              "90956"
            ]
          },
          "metadata": {},
          "execution_count": 31
        }
      ]
    },
    {
      "cell_type": "code",
      "metadata": {
        "colab": {
          "base_uri": "https://localhost:8080/"
        },
        "id": "OuKc2IoZyo4L",
        "outputId": "13d069f0-a86d-4824-e68c-77e5ac349d78"
      },
      "source": [
        "#Ensure that all sequences in a list have the same length\n",
        "data = pad_sequences(sequences, maxlen=max_seq_length)\n",
        "data"
      ],
      "execution_count": null,
      "outputs": [
        {
          "output_type": "execute_result",
          "data": {
            "text/plain": [
              "array([[   0,    0,    0, ...,   60,   52,  101],\n",
              "       [   0,    0,    0, ...,  557,  386,  200],\n",
              "       [   0,    0,    0, ..., 7092, 1298, 1236],\n",
              "       ...,\n",
              "       [   0,    0,    0, ...,  127,   15,   31],\n",
              "       [   0,    0,    0, ..., 4294,   76, 3875],\n",
              "       [   0,    0,    0, ...,  258,  243, 6258]], dtype=int32)"
            ]
          },
          "metadata": {},
          "execution_count": 32
        }
      ]
    },
    {
      "cell_type": "code",
      "metadata": {
        "id": "GkVn8R1IBsua"
      },
      "source": [
        "#Importing to_categorical function from tensorflow\n",
        "from tensorflow.keras.utils import to_categorical"
      ],
      "execution_count": null,
      "outputs": []
    },
    {
      "cell_type": "code",
      "metadata": {
        "id": "8S5xBvN-Bs7B"
      },
      "source": [
        "#Convert array of labeled data to one-hot encoding\n",
        "labels = to_categorical(np.asarray(label))"
      ],
      "execution_count": null,
      "outputs": []
    },
    {
      "cell_type": "code",
      "metadata": {
        "colab": {
          "base_uri": "https://localhost:8080/"
        },
        "id": "L6ft0X5ABs-n",
        "outputId": "c89f5cba-e846-4f90-a833-414b27864348"
      },
      "source": [
        "#Print label Shape\n",
        "labels.shape"
      ],
      "execution_count": null,
      "outputs": [
        {
          "output_type": "execute_result",
          "data": {
            "text/plain": [
              "(87864, 2)"
            ]
          },
          "metadata": {},
          "execution_count": 35
        }
      ]
    },
    {
      "cell_type": "code",
      "metadata": {
        "colab": {
          "base_uri": "https://localhost:8080/"
        },
        "id": "vIvCxvEwBtBS",
        "outputId": "fb014e51-3120-47fd-d25d-97ce5d5da990"
      },
      "source": [
        "#Print Label\n",
        "labels"
      ],
      "execution_count": null,
      "outputs": [
        {
          "output_type": "execute_result",
          "data": {
            "text/plain": [
              "array([[1., 0.],\n",
              "       [0., 1.],\n",
              "       [1., 0.],\n",
              "       ...,\n",
              "       [0., 1.],\n",
              "       [0., 1.],\n",
              "       [0., 1.]], dtype=float32)"
            ]
          },
          "metadata": {},
          "execution_count": 36
        }
      ]
    },
    {
      "cell_type": "code",
      "metadata": {
        "id": "hBgzMOVRJ9Gt",
        "colab": {
          "base_uri": "https://localhost:8080/"
        },
        "outputId": "480d110c-c9a0-409e-bc84-93bd5bcf3ede"
      },
      "source": [
        "#Retrieve Glove\n",
        "!wget https://nlp.stanford.edu/data/glove.840B.300d.zip"
      ],
      "execution_count": null,
      "outputs": [
        {
          "output_type": "stream",
          "name": "stdout",
          "text": [
            "--2021-11-12 04:24:12--  https://nlp.stanford.edu/data/glove.840B.300d.zip\n",
            "Resolving nlp.stanford.edu (nlp.stanford.edu)... 171.64.67.140\n",
            "Connecting to nlp.stanford.edu (nlp.stanford.edu)|171.64.67.140|:443... connected.\n",
            "HTTP request sent, awaiting response... 301 Moved Permanently\n",
            "Location: http://downloads.cs.stanford.edu/nlp/data/glove.840B.300d.zip [following]\n",
            "--2021-11-12 04:24:13--  http://downloads.cs.stanford.edu/nlp/data/glove.840B.300d.zip\n",
            "Resolving downloads.cs.stanford.edu (downloads.cs.stanford.edu)... 171.64.64.22\n",
            "Connecting to downloads.cs.stanford.edu (downloads.cs.stanford.edu)|171.64.64.22|:80... connected.\n",
            "HTTP request sent, awaiting response... 200 OK\n",
            "Length: 2176768927 (2.0G) [application/zip]\n",
            "Saving to: ‘glove.840B.300d.zip’\n",
            "\n",
            "glove.840B.300d.zip 100%[===================>]   2.03G  5.02MB/s    in 6m 51s  \n",
            "\n",
            "2021-11-12 04:31:03 (5.06 MB/s) - ‘glove.840B.300d.zip’ saved [2176768927/2176768927]\n",
            "\n"
          ]
        }
      ]
    },
    {
      "cell_type": "code",
      "metadata": {
        "id": "EEAv5Fe1J9K-",
        "colab": {
          "base_uri": "https://localhost:8080/"
        },
        "outputId": "696dc0a6-d510-477e-f0e8-d99fbf8b60fe"
      },
      "source": [
        "#Unzipping Glove Package\n",
        "!unzip glove.840B.300d.zip"
      ],
      "execution_count": null,
      "outputs": [
        {
          "output_type": "stream",
          "name": "stdout",
          "text": [
            "Archive:  glove.840B.300d.zip\n",
            "  inflating: glove.840B.300d.txt     \n"
          ]
        }
      ]
    },
    {
      "cell_type": "code",
      "metadata": {
        "id": "4jT-Th3ZJ9O1"
      },
      "source": [
        "#Specifying whuch drive Glove is present\n",
        "glove_dir = '/content/'"
      ],
      "execution_count": null,
      "outputs": []
    },
    {
      "cell_type": "code",
      "metadata": {
        "colab": {
          "base_uri": "https://localhost:8080/"
        },
        "id": "nKbWSCuYJ9SU",
        "outputId": "4ff13ad5-abfb-4109-e0f1-192bc3a76e55"
      },
      "source": [
        "import os\n",
        "embedding_index = {}\n",
        "\n",
        "f = open(os.path.join(glove_dir,'glove.840B.300d.txt'),'r',encoding='utf8')\n",
        "for line in f:\n",
        "    values = line.split(' ')\n",
        "    word = values[0]\n",
        "    coefs = np.asarray(values[1:],dtype='float32')\n",
        "    embedding_index[word] = coefs\n",
        "f.close()\n",
        "\n",
        "print('found word vecs: ',len(embedding_index))\n"
      ],
      "execution_count": null,
      "outputs": [
        {
          "output_type": "stream",
          "name": "stdout",
          "text": [
            "found word vecs:  2196016\n"
          ]
        }
      ]
    },
    {
      "cell_type": "code",
      "metadata": {
        "id": "pWMN6nyyJ9Vr"
      },
      "source": [
        "embedding_dim = 300\n",
        "embedding_matrix = np.zeros((len(word_index)+1,embedding_dim))\n"
      ],
      "execution_count": null,
      "outputs": []
    },
    {
      "cell_type": "code",
      "metadata": {
        "id": "6OIyYwk4PbG_"
      },
      "source": [
        "for word,i in word_index.items():\n",
        "    embedding_vector = embedding_index.get(word)\n",
        "    if embedding_vector is not None:\n",
        "        embedding_matrix[i] = embedding_vector"
      ],
      "execution_count": null,
      "outputs": []
    },
    {
      "cell_type": "code",
      "metadata": {
        "id": "Pk13o0Z9PbKW"
      },
      "source": [
        "from keras.layers import Embedding\n",
        "embedding_layer = Embedding(len(word_index)+1,embedding_dim,weights=[embedding_matrix],input_length=max_seq_length,trainable=False)"
      ],
      "execution_count": null,
      "outputs": []
    },
    {
      "cell_type": "code",
      "metadata": {
        "id": "4x_v9DQ7PbOc"
      },
      "source": [
        "#Create a Deep Learing Network\n",
        "from keras.layers import Bidirectional,GlobalMaxPool1D,Conv1D,MaxPool1D\n",
        "from keras.layers import LSTM,Input,Dense,Dropout,Activation,GRU,Concatenate\n",
        "from keras.models import Model\n",
        "\n",
        "inp = Input(shape=(max_seq_length,))\n",
        "x = embedding_layer(inp)\n",
        "x = Bidirectional(LSTM(50,return_sequences=True))(x)\n",
        "x = Bidirectional(LSTM(20,return_sequences=True))(x)\n",
        "x = Dropout(0.5)(x)\n",
        "x = GlobalMaxPool1D()(x)\n",
        "x = Dense(16,activation='relu')(x)\n",
        "x = Dense(2,activation='sigmoid')(x)\n",
        "\n",
        "\n",
        "inp2 = Input(shape=(max_seq_length,))\n",
        "y = embedding_layer(inp2)\n",
        "y = Conv1D(50, 3, activation='relu', padding='same', strides=1)(y)\n",
        "y = Conv1D(50, 3, activation='relu', padding='same', strides=1)(y)\n",
        "y = MaxPool1D()(y)\n",
        "y = Dropout(0.2)(y)\n",
        "y = Conv1D(100, 3, activation='relu', padding='same', strides=1)(y)\n",
        "y = Conv1D(100, 3, activation='relu', padding='same', strides=1)(y)\n",
        "y = MaxPool1D()(y)\n",
        "y = Dropout(0.2)(y)\n",
        "y = Conv1D(200, 3, activation='relu', padding='same', strides=1)(y)\n",
        "y = Conv1D(200, 3, activation='relu', padding='same', strides=1)(y)\n",
        "y = GlobalMaxPool1D()(y)\n",
        "y = Dropout(0.2)(y)\n",
        "y = Dense(200,activation='relu')(y)\n",
        "y = Dropout(0.2)(y)\n",
        "y = Dense(2,activation='sigmoid')(y)\n",
        "\n",
        "\n",
        "\n",
        "conc2= Concatenate()([x,y])\n",
        "out=Dense(2,activation='sigmoid')(conc2)\n",
        "\n",
        "\n",
        "model = Model([inp,inp2], out)\n",
        "\n",
        "\n",
        "\n"
      ],
      "execution_count": null,
      "outputs": []
    },
    {
      "cell_type": "code",
      "metadata": {
        "id": "UCij9yjcPbSB"
      },
      "source": [
        "#Compilingthe Model\n",
        "from keras.callbacks import ReduceLROnPlateau\n",
        "learning_rate_reduction = ReduceLROnPlateau(monitor='val_accuracy', patience = 2, verbose=1,factor=0.5, min_lr=0.00001)\n",
        "model.compile(optimizer=tf.keras.optimizers.Adam(),loss='binary_crossentropy',metrics=['accuracy'])"
      ],
      "execution_count": null,
      "outputs": []
    },
    {
      "cell_type": "code",
      "metadata": {
        "colab": {
          "base_uri": "https://localhost:8080/",
          "height": 1000
        },
        "id": "7LlgsT8Jzpxn",
        "outputId": "1a45e46b-9b91-48d3-c67f-583d2c15fb01"
      },
      "source": [
        "from keras.utils.vis_utils import plot_model\n",
        "plot_model(model, to_file='model_plot.png')"
      ],
      "execution_count": null,
      "outputs": [
        {
          "output_type": "execute_result",
          "data": {
            "image/png": "[encoded data removed]",
            "text/plain": [
              "<IPython.core.display.Image object>"
            ]
          },
          "metadata": {},
          "execution_count": 62
        }
      ]
    },
    {
      "cell_type": "code",
      "metadata": {
        "colab": {
          "base_uri": "https://localhost:8080/"
        },
        "id": "bPo3KisAQJGy",
        "outputId": "54d237ad-9e81-48e1-8b6b-54ec84f5f80d"
      },
      "source": [
        "#Training the Model\n",
        "from sklearn.model_selection import train_test_split\n",
        "X_train, X_test, y_train, y_test = train_test_split(data, labels, test_size=0.2, random_state=100)\n",
        "model.fit([X_train,X_train],y_train,validation_split=0.1,epochs=10,batch_size=128)"
      ],
      "execution_count": null,
      "outputs": [
        {
          "output_type": "stream",
          "name": "stdout",
          "text": [
            "Epoch 1/10\n",
            "495/495 [==============================] - 185s 273ms/step - loss: 0.4902 - accuracy: 0.8767 - val_loss: 0.4178 - val_accuracy: 0.9154\n",
            "Epoch 2/10\n",
            "495/495 [==============================] - 131s 265ms/step - loss: 0.3514 - accuracy: 0.9258 - val_loss: 0.3161 - val_accuracy: 0.9363\n",
            "Epoch 3/10\n",
            "495/495 [==============================] - 131s 265ms/step - loss: 0.2768 - accuracy: 0.9395 - val_loss: 0.2659 - val_accuracy: 0.9357\n",
            "Epoch 4/10\n",
            "495/495 [==============================] - 131s 264ms/step - loss: 0.2267 - accuracy: 0.9480 - val_loss: 0.2192 - val_accuracy: 0.9465\n",
            "Epoch 5/10\n",
            "495/495 [==============================] - 131s 264ms/step - loss: 0.1895 - accuracy: 0.9548 - val_loss: 0.2073 - val_accuracy: 0.9430\n",
            "Epoch 6/10\n",
            "495/495 [==============================] - 131s 264ms/step - loss: 0.1616 - accuracy: 0.9615 - val_loss: 0.1738 - val_accuracy: 0.9516\n",
            "Epoch 7/10\n",
            "495/495 [==============================] - 131s 264ms/step - loss: 0.1380 - accuracy: 0.9661 - val_loss: 0.1682 - val_accuracy: 0.9479\n",
            "Epoch 8/10\n",
            "495/495 [==============================] - 131s 265ms/step - loss: 0.1176 - accuracy: 0.9719 - val_loss: 0.1494 - val_accuracy: 0.9541\n",
            "Epoch 9/10\n",
            "495/495 [==============================] - 131s 264ms/step - loss: 0.1025 - accuracy: 0.9755 - val_loss: 0.1465 - val_accuracy: 0.9529\n",
            "Epoch 10/10\n",
            "495/495 [==============================] - 131s 264ms/step - loss: 0.0892 - accuracy: 0.9784 - val_loss: 0.1421 - val_accuracy: 0.9521\n"
          ]
        },
        {
          "output_type": "execute_result",
          "data": {
            "text/plain": [
              "<keras.callbacks.History at 0x7f337f783210>"
            ]
          },
          "metadata": {},
          "execution_count": 57
        }
      ]
    },
    {
      "cell_type": "code",
      "metadata": {
        "id": "7mR-92-KQJJ9",
        "colab": {
          "base_uri": "https://localhost:8080/"
        },
        "outputId": "d556b9e0-6e2d-45a1-f209-ca4a8429f9b2"
      },
      "source": [
        "#Evaluating the Model\n",
        "score = model.evaluate([X_test,X_test],y_test)\n",
        "print(score)"
      ],
      "execution_count": null,
      "outputs": [
        {
          "output_type": "stream",
          "name": "stdout",
          "text": [
            "550/550 [==============================] - 69s 125ms/step - loss: 0.1474 - accuracy: 0.9488\n",
            "[0.1474221795797348, 0.9488419890403748]\n"
          ]
        }
      ]
    },
    {
      "cell_type": "code",
      "metadata": {
        "id": "XIBEWIfFQJNC",
        "colab": {
          "base_uri": "https://localhost:8080/"
        },
        "outputId": "8f140f60-92b5-41d5-ef4b-f7a1178ee229"
      },
      "source": [
        "#Printing the Accuracy\n",
        "print(score[1]*100)"
      ],
      "execution_count": null,
      "outputs": [
        {
          "output_type": "stream",
          "name": "stdout",
          "text": [
            "94.88419890403748\n"
          ]
        }
      ]
    },
    {
      "cell_type": "code",
      "metadata": {
        "id": "Rx40SY7e5Yml"
      },
      "source": [
        "pred = model.predict([X_test,X_test])"
      ],
      "execution_count": null,
      "outputs": []
    },
    {
      "cell_type": "code",
      "metadata": {
        "colab": {
          "base_uri": "https://localhost:8080/"
        },
        "id": "E5sGyz-k6L8q",
        "outputId": "5dbafe81-3490-45b7-c3dd-605c139651b5"
      },
      "source": [
        "pred"
      ],
      "execution_count": null,
      "outputs": [
        {
          "output_type": "execute_result",
          "data": {
            "text/plain": [
              "array([[0.9678499 , 0.02795268],\n",
              "       [0.0627818 , 0.94227934],\n",
              "       [0.964351  , 0.03116759],\n",
              "       ...,\n",
              "       [0.96780974, 0.02798024],\n",
              "       [0.96090597, 0.03457104],\n",
              "       [0.13349931, 0.87596005]], dtype=float32)"
            ]
          },
          "metadata": {},
          "execution_count": 65
        }
      ]
    },
    {
      "cell_type": "code",
      "metadata": {
        "id": "zSPELjtX6emx"
      },
      "source": [
        "for i in range(len(pred)):\n",
        "  x=pred[i]\n",
        "  if x[0] > 0.5:\n",
        "    x[0]=1\n",
        "    x[1]=0\n",
        "  else:\n",
        "    x[0]=0\n",
        "    x[1]=1"
      ],
      "execution_count": null,
      "outputs": []
    },
    {
      "cell_type": "code",
      "metadata": {
        "colab": {
          "base_uri": "https://localhost:8080/"
        },
        "id": "eyWPnjxO61qV",
        "outputId": "a71271c3-6dec-4e74-f218-2be5b1708c98"
      },
      "source": [
        "pred"
      ],
      "execution_count": null,
      "outputs": [
        {
          "output_type": "execute_result",
          "data": {
            "text/plain": [
              "array([[1., 0.],\n",
              "       [0., 1.],\n",
              "       [1., 0.],\n",
              "       ...,\n",
              "       [1., 0.],\n",
              "       [1., 0.],\n",
              "       [0., 1.]], dtype=float32)"
            ]
          },
          "metadata": {},
          "execution_count": 69
        }
      ]
    },
    {
      "cell_type": "code",
      "metadata": {
        "colab": {
          "base_uri": "https://localhost:8080/",
          "height": 330
        },
        "id": "TOGaaGLk56i-",
        "outputId": "9b2edcad-adbb-46fa-a86f-206a1a7491fd"
      },
      "source": [
        "from sklearn.metrics import classification_report,confusion_matrix, ConfusionMatrixDisplay\n",
        "cm = confusion_matrix(y_test.argmax(axis=1), pred.argmax(axis=1))\n",
        "print(cm)\n",
        "disp =ConfusionMatrixDisplay(confusion_matrix=cm,display_labels=['fake','true'])\n",
        "disp.plot()"
      ],
      "execution_count": null,
      "outputs": [
        {
          "output_type": "stream",
          "name": "stdout",
          "text": [
            "[[8431  368]\n",
            " [ 534 8240]]\n"
          ]
        },
        {
          "output_type": "execute_result",
          "data": {
            "text/plain": [
              "<sklearn.metrics._plot.confusion_matrix.ConfusionMatrixDisplay at 0x7f337f7d1d10>"
            ]
          },
          "metadata": {},
          "execution_count": 86
        },
        {
          "output_type": "display_data",
          "data": {
            "image/png": "[encoded data removed]",
            "text/plain": [
              "<Figure size 432x288 with 2 Axes>"
            ]
          },
          "metadata": {
            "needs_background": "light"
          }
        }
      ]
    },
    {
      "cell_type": "code",
      "metadata": {
        "colab": {
          "base_uri": "https://localhost:8080/"
        },
        "id": "jXLFwCRD7UQ0",
        "outputId": "aee7552d-774f-46a4-e290-4558a8f76373"
      },
      "source": [
        "print(classification_report(y_test, pred, target_names = ['Fake','True']))"
      ],
      "execution_count": null,
      "outputs": [
        {
          "output_type": "stream",
          "name": "stdout",
          "text": [
            "              precision    recall  f1-score   support\n",
            "\n",
            "        Fake       0.94      0.96      0.95      8799\n",
            "        True       0.96      0.94      0.95      8774\n",
            "\n",
            "   micro avg       0.95      0.95      0.95     17573\n",
            "   macro avg       0.95      0.95      0.95     17573\n",
            "weighted avg       0.95      0.95      0.95     17573\n",
            " samples avg       0.95      0.95      0.95     17573\n",
            "\n"
          ]
        }
      ]
    }
  ]
}